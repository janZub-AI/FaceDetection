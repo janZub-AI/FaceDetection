{
 "cells": [
  {
   "cell_type": "code",
   "execution_count": null,
   "metadata": {
    "ExecuteTime": {
     "end_time": "2021-02-05T16:12:49.187134Z",
     "start_time": "2021-02-05T16:12:49.184323Z"
    }
   },
   "outputs": [],
   "source": [
    "import requests\n",
    "import cv2\n",
    "from pathlib import Path\n",
    "import matplotlib.pyplot as plt"
   ]
  },
  {
   "cell_type": "code",
   "execution_count": null,
   "metadata": {
    "ExecuteTime": {
     "end_time": "2021-02-05T16:13:57.391932Z",
     "start_time": "2021-02-05T16:13:57.388572Z"
    }
   },
   "outputs": [],
   "source": [
    "def ensure_harr_model(harr_model_name):\n",
    "    my_file = Path(harr_model_name)\n",
    "    if my_file.is_file():    \n",
    "        return\n",
    "    \n",
    "    base_url = 'https://raw.githubusercontent.com/opencv/opencv/master/data/haarcascades/'\n",
    "    resourcePath = '{0}{1}'.format(base_url, harr_model_name)\n",
    "    print(resourcePath)\n",
    "    r = requests.get(resourcePath, allow_redirects=True)\n",
    "\n",
    "    with open(harr_model_name,'w') as fd:\n",
    "        fd.write(r.text)\n"
   ]
  },
  {
   "cell_type": "code",
   "execution_count": null,
   "metadata": {
    "ExecuteTime": {
     "end_time": "2021-02-05T16:27:48.879751Z",
     "start_time": "2021-02-05T16:27:48.876612Z"
    }
   },
   "outputs": [],
   "source": [
    "def get_faces(grey, harr_name):   \n",
    "    face_cascade = cv2.CascadeClassifier(harr_name)\n",
    "    faces = face_cascade.detectMultiScale(grey,\n",
    "    scaleFactor=1.02,\n",
    "    minNeighbors= 4,\n",
    "    minSize=(25, 25))\n",
    "    print(\"Found {0} faces!\".format(len(faces)))\n",
    "    return faces"
   ]
  },
  {
   "cell_type": "code",
   "execution_count": null,
   "metadata": {
    "ExecuteTime": {
     "end_time": "2021-02-05T16:12:49.211851Z",
     "start_time": "2021-02-05T16:12:49.208681Z"
    }
   },
   "outputs": [],
   "source": [
    "def mark_faces(faces, image):\n",
    "    for (x, y, w, h) in faces: \n",
    "      cv2.rectangle(image, (x, y), (x+w, y+h), (255, 0, 0), 2)\n",
    "    return image"
   ]
  },
  {
   "cell_type": "code",
   "execution_count": null,
   "metadata": {
    "ExecuteTime": {
     "end_time": "2021-02-05T16:12:49.215842Z",
     "start_time": "2021-02-05T16:12:49.213514Z"
    }
   },
   "outputs": [],
   "source": [
    "def save_file(image):\n",
    "    cv2.imwrite(\"face_detected.jpg\", image) "
   ]
  },
  {
   "cell_type": "code",
   "execution_count": null,
   "metadata": {
    "ExecuteTime": {
     "end_time": "2021-02-05T16:27:50.609865Z",
     "start_time": "2021-02-05T16:27:50.550925Z"
    }
   },
   "outputs": [],
   "source": [
    "harr_model = 'haarcascade_frontalcatface'\n",
    "extension = 'xml'\n",
    "harr_model_name = '{0}.{1}'.format(harr_model, extension)\n",
    "\n",
    "imageName= 'photo.png'\n",
    "\n",
    "ensure_harr_model(harr_model_name)\n",
    "\n",
    "image = cv2.imread(imageName)\n",
    "grey = cv2.cvtColor(image, cv2.COLOR_BGR2GRAY)    \n",
    "\n",
    "faces = get_faces(grey, harr_model_name)   \n",
    "marked = mark_faces(faces, image)\n",
    "\n",
    "save_file(image)"
   ]
  },
  {
   "cell_type": "code",
   "execution_count": null,
   "metadata": {},
   "outputs": [],
   "source": []
  }
 ],
 "metadata": {
  "kernelspec": {
   "display_name": "Python 3",
   "language": "python",
   "name": "python3"
  },
  "toc": {
   "base_numbering": 1,
   "nav_menu": {},
   "number_sections": false,
   "sideBar": true,
   "skip_h1_title": false,
   "title_cell": "Table of Contents",
   "title_sidebar": "Contents",
   "toc_cell": false,
   "toc_position": {},
   "toc_section_display": true,
   "toc_window_display": false
  }
 },
 "nbformat": 4,
 "nbformat_minor": 4
}